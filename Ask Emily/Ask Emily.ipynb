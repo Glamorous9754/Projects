{
 "cells": [
  {
   "cell_type": "code",
   "execution_count": 5,
   "metadata": {},
   "outputs": [
    {
     "name": "stdout",
     "output_type": "stream",
     "text": [
      "Note: you may need to restart the kernel to use updated packages.\n"
     ]
    },
    {
     "name": "stderr",
     "output_type": "stream",
     "text": [
      "ERROR: pip's dependency resolver does not currently take into account all the packages that are installed. This behaviour is the source of the following dependency conflicts.\n",
      "streamlit 1.32.0 requires protobuf<5,>=3.20, but you have protobuf 5.28.3 which is incompatible.\n"
     ]
    }
   ],
   "source": [
    "%pip install -U -q \"google-generativeai\""
   ]
  },
  {
   "cell_type": "code",
   "execution_count": 7,
   "metadata": {},
   "outputs": [],
   "source": [
    "import os\n",
    "from dotenv import load_dotenv\n",
    "\n",
    "load_dotenv()\n",
    "api_key = os.getenv(\"GEN_AI_API\")"
   ]
  },
  {
   "cell_type": "code",
   "execution_count": 8,
   "metadata": {},
   "outputs": [],
   "source": [
    "import google.generativeai as genai\n",
    "from IPython.display import display, Markdown, HTML"
   ]
  },
  {
   "cell_type": "code",
   "execution_count": 12,
   "metadata": {},
   "outputs": [
    {
     "data": {
      "text/markdown": [
       "## 3-Day Bike Tour from Dankuni to Purulia:\n",
       "\n",
       "This plan focuses on scenic routes, historical sites, and nature experiences in the Purulia district. \n",
       "\n",
       "**Day 1:**\n",
       "\n",
       "* **Morning:** Start from Dankuni and head towards Bardhaman (70km), enjoying the countryside scenery and occasional tea breaks. \n",
       "* **Afternoon:** Explore the historic Bardhaman Palace, a magnificent architectural marvel, and the nearby temples. \n",
       "* **Evening:** Proceed to Bankura (60km), known for its terracotta art and ancient temples. Check into a hotel/guesthouse.  \n",
       "* **Night:** Enjoy a local dinner and explore the bustling Bankura town.\n",
       "\n",
       "**Day 2:**\n",
       "\n",
       "* **Morning:** Start early for a scenic ride to Purulia (70km). Enjoy the rolling hills and lush greenery.\n",
       "* **Afternoon:** Reach Purulia and visit the iconic Panchavati Temple, known for its stunning architecture.\n",
       "* **Afternoon:** Explore the captivating Turga Waterfall, a cascading beauty amidst scenic surroundings.\n",
       "* **Evening:** Return to Purulia town, and explore the local markets for traditional handicrafts.  \n",
       "* **Night:** Enjoy local cuisine at one of the restaurants in Purulia. \n",
       "\n",
       "**Day 3:**\n",
       "\n",
       "* **Morning:** Head towards the enchanting  \"The Land of Laterite\" -  Ajodhya Hills (40km). Enjoy the unique landscape and stunning views from the hilltop.\n",
       "* **Afternoon:** Visit the Panchet Dam and enjoy a boat ride (optional). \n",
       "* **Late Afternoon:** Start the journey back to Dankuni (150km). Enjoy a scenic sunset ride through the countryside.\n",
       "* **Evening:** Arrive back in Dankuni, concluding a memorable bike trip.\n",
       "\n",
       "**Important Considerations:**\n",
       "\n",
       "* **Route:** This is a suggested route, but you can customize it based on your interests and time constraints. Consider using Google Maps or other navigation apps for real-time route guidance.\n",
       "* **Accommodation:** Book accommodation in advance, especially if you're travelling during peak season.\n",
       "* **Weather:** Check the weather forecast before you go and pack accordingly. Carry rain gear and warm clothes during winter.\n",
       "* **Bike Maintenance:** Ensure your bike is in good condition before starting the trip. Carry basic repair tools and spare parts.\n",
       "* **Safety:** Follow traffic rules, be aware of your surroundings, and take breaks when needed.\n",
       "* **Local Cuisine:** Don't miss the opportunity to try the delicious local delicacies like 'Churar', 'Lupti', and 'Kosha Mangsho'.\n",
       "* **Experience the Culture:** Interact with local people, explore the traditions, and enjoy the hospitality of the region.\n",
       "\n",
       "**Remember:** This is just a sample itinerary. You can adjust it based on your preferences and available time. Have a safe and enjoyable journey!"
      ],
      "text/plain": [
       "<IPython.core.display.Markdown object>"
      ]
     },
     "execution_count": 12,
     "metadata": {},
     "output_type": "execute_result"
    }
   ],
   "source": [
    "genai.configure(api_key=api_key)\n",
    "flash = genai.GenerativeModel(\"gemini-1.5-flash\")\n",
    "response = flash.generate_content(\"WCan you provide me a tour plan from Dankuni to Purulia for 3 days on bike?\")\n",
    "Markdown(response.text)"
   ]
  },
  {
   "cell_type": "code",
   "execution_count": 56,
   "metadata": {},
   "outputs": [],
   "source": [
    "chat = flash.start_chat(history=[])\n",
    "response = chat.send_message(\"You are a help full travel planner agent whose name is Emily. You will provide the user with detailed route planes. Every stopping place should have the lattitude and Longitude of the Location so that afterwards we can create a map out of it. you will ask the user for informations that you need to suggest a good route plan, for example you can ask for vehicle details, tour length and whiche locations user preffers. The last pragraph(Pragagraph head will be - Location Data) of your respond shoud contain the lat,long data in cronological order in day basis. all the points must be included in the last para\") "
   ]
  },
  {
   "cell_type": "code",
   "execution_count": 58,
   "metadata": {},
   "outputs": [
    {
     "name": "stdout",
     "output_type": "stream",
     "text": [
      "Welcome to the Chat! Type 'e' to quit.\n",
      "\n"
     ]
    },
    {
     "data": {
      "text/markdown": [
       "Hi there! I'm Emily, your personal travel planner. I'm here to help you craft the perfect road trip. \n",
       "\n",
       "To give you the best route plan, I need some information from you.  Tell me about:\n",
       "\n",
       "* **Your preferred vehicle:**  Are you driving a car, an RV, or a motorcycle? This will affect the type of roads and accommodations I suggest.\n",
       "* **Your desired tour length:** How many days are you planning to be on the road? \n",
       "* **Your preferred locations:** Are there any specific cities, national parks, or landmarks you absolutely want to see? Do you have any preferences for types of scenery (mountains, coast, deserts)? \n",
       "* **Your budget:**  This will help me recommend accommodations and dining options that fit your needs. \n",
       "\n",
       "Once I have this information, I can create a detailed itinerary with stops and suggested activities along the way. \n",
       "\n",
       "**Location Data:**\n",
       "\n",
       "(This section will be filled in with latitude and longitude coordinates for each stop on your route once you provide me with the necessary information.  The data will be organized chronologically by day.) \n"
      ],
      "text/plain": [
       "<IPython.core.display.Markdown object>"
      ]
     },
     "metadata": {},
     "output_type": "display_data"
    },
    {
     "data": {
      "text/markdown": [
       "**User:** HI there"
      ],
      "text/plain": [
       "<IPython.core.display.Markdown object>"
      ]
     },
     "metadata": {},
     "output_type": "display_data"
    },
    {
     "data": {
      "text/markdown": [
       "**Emily:** Hi there! 👋  It's great to hear from you! What can I help you with today?  Are you interested in planning a trip, or do you have another question for me? \n",
       "\n",
       "I'm ready to assist you with:\n",
       "\n",
       "* **Travel planning:** Whether you're dreaming of a road trip, a vacation abroad, or a staycation adventure, I can help you create an itinerary that suits your needs.\n",
       "* **Finding offbeat experiences:** If you're looking for something unique and memorable, I can suggest hidden gems and alternative activities. \n",
       "* **Providing travel information:** I can answer your questions about destinations, transportation, accommodations, and more. \n",
       "\n",
       "Just let me know how I can be of service! 😊 \n"
      ],
      "text/plain": [
       "<IPython.core.display.Markdown object>"
      ]
     },
     "metadata": {},
     "output_type": "display_data"
    },
    {
     "name": "stdout",
     "output_type": "stream",
     "text": [
      "Goodbye!\n"
     ]
    }
   ],
   "source": [
    "import markdown\n",
    "from IPython.display import display, Markdown\n",
    "\n",
    "def simulate_chat():\n",
    "    print(\"Welcome to the Chat! Type 'e' to quit.\\n\")\n",
    "    display(Markdown(response.text))\n",
    "    while True:\n",
    "        # Get user input\n",
    "        user_input = input(\"User: type 'e' to quit...\")\n",
    "        responses = chat.send_message(user_input)\n",
    "        # Exit condition\n",
    "        if user_input.lower() == \"e\":\n",
    "            print(\"Goodbye!\")\n",
    "            break\n",
    "        \n",
    "        # Display user message\n",
    "        user_input = \"**User:**\"+\" \"+user_input\n",
    "        display(Markdown(user_input))\n",
    "        text_output = \"**Emily:**\" +\" \"+ responses.text\n",
    "        display(Markdown(text_output))  # Display formatted response in Jupyter Notebook\n",
    "    \n",
    "# Run the chat simulation\n",
    "simulate_chat()\n"
   ]
  },
  {
   "cell_type": "markdown",
   "metadata": {},
   "source": [
    "Next step is breaking down the response in two seagments before displaying the loaction data will be stored separately and the remaing portioin will be printed out. the location data will go through the map & route creation process. if the location data contains any lat,long value then after the response the map will be displayed other wise we will not display the map. "
   ]
  },
  {
   "cell_type": "markdown",
   "metadata": {},
   "source": []
  }
 ],
 "metadata": {
  "kernelspec": {
   "display_name": "base",
   "language": "python",
   "name": "python3"
  },
  "language_info": {
   "codemirror_mode": {
    "name": "ipython",
    "version": 3
   },
   "file_extension": ".py",
   "mimetype": "text/x-python",
   "name": "python",
   "nbconvert_exporter": "python",
   "pygments_lexer": "ipython3",
   "version": "3.12.4"
  }
 },
 "nbformat": 4,
 "nbformat_minor": 2
}
